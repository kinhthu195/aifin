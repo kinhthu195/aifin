{
 "cells": [
  {
   "cell_type": "markdown",
   "id": "cc157712-0978-490b-abc7-fab2091ac5f3",
   "metadata": {
    "slideshow": {
     "slide_type": "slide"
    }
   },
   "source": [
    "<img src=\"http://certificate.tpq.io/tpq_logo.png\" alt=\"The Python Quants\" width=\"35%\" align=\"right\" border=\"0\"><br>"
   ]
  },
  {
   "cell_type": "markdown",
   "id": "8978678d-311a-4896-a13d-48f196b331dd",
   "metadata": {},
   "source": [
    "# AI in Finance"
   ]
  },
  {
   "cell_type": "markdown",
   "id": "8f772084-0ca5-4a0d-91fb-5bdd0f8bd50d",
   "metadata": {},
   "source": [
    "**Workshop at Texas State University (October 2023)**\n",
    "\n",
    "**_Financial Data Science_**\n",
    "\n",
    "Dr. Yves J. Hilpisch | The Python Quants GmbH | http://tpq.io"
   ]
  },
  {
   "cell_type": "markdown",
   "id": "74f5c9bf-e35a-43f8-b3b4-a69f259b86c6",
   "metadata": {},
   "source": [
    "**<p style=\"color:green\">All of the following examples are generated with ChatGPT Plus (GPT 4.0) unless indicated otherwise.</p>**"
   ]
  },
  {
   "cell_type": "markdown",
   "id": "2d96c7e5-89c8-476e-b8e7-dda6df9321c8",
   "metadata": {},
   "source": [
    "## Imports"
   ]
  },
  {
   "cell_type": "code",
   "execution_count": null,
   "id": "a3913d13-6f0c-4da3-b377-4aae4fffa44c",
   "metadata": {},
   "outputs": [],
   "source": [
    "import pandas as pd"
   ]
  },
  {
   "cell_type": "markdown",
   "id": "103d1373-8616-4cb1-b330-595aef54a1f3",
   "metadata": {},
   "source": [
    "## Data Set 1"
   ]
  },
  {
   "cell_type": "code",
   "execution_count": null,
   "id": "37518e5e-c4f1-495b-8af8-832480b2fff1",
   "metadata": {},
   "outputs": [],
   "source": [
    "prices = pd.read_csv('../sources/eod_prices.csv', index_col=0, parse_dates=True)"
   ]
  },
  {
   "cell_type": "code",
   "execution_count": null,
   "id": "36a4e0ba-fb0c-4331-bcee-ca6425d30132",
   "metadata": {},
   "outputs": [],
   "source": [
    "prices"
   ]
  },
  {
   "cell_type": "markdown",
   "id": "76778981-2691-4ae4-ac68-9b1f6d9a594c",
   "metadata": {},
   "source": [
    "Possible prompt for GPT4:\n",
    "\n",
    "> <p style='color:green;'>What can you tell us about the data contained in this data set? Also provide appropriate statistical analyses and visualizations."
   ]
  },
  {
   "cell_type": "markdown",
   "id": "7471e37c-edbb-46f9-83ba-e6d2e89d98bb",
   "metadata": {},
   "source": [
    "## Data Set 2"
   ]
  },
  {
   "cell_type": "code",
   "execution_count": null,
   "id": "3ca6b76d-b383-4496-84a8-d86f3cd25dc8",
   "metadata": {},
   "outputs": [],
   "source": [
    "fundamentals = pd.read_csv('../sources/eod_fundamentals.csv', index_col=0)"
   ]
  },
  {
   "cell_type": "code",
   "execution_count": null,
   "id": "90a15fa4-46e0-462f-b8b9-e8bfd2054d62",
   "metadata": {},
   "outputs": [],
   "source": [
    "fundamentals"
   ]
  },
  {
   "cell_type": "markdown",
   "id": "07d5f930-3bc8-4507-97c0-d3676ce019ce",
   "metadata": {},
   "source": [
    "Possible prompt:\n",
    "\n",
    "> <p style='color:green;'>What can you tell us about the data contained in this data set? Also provide appropriate statistical analyses and visualizations. Can you do some grouping?"
   ]
  },
  {
   "cell_type": "markdown",
   "id": "9389668b-9df1-4d94-b710-905770d19b01",
   "metadata": {},
   "source": [
    "<img src='http://hilpisch.com/tpq_logo.png' width=\"35%\" align=\"right\">\n",
    "\n",
    "<br><br><a href=\"http://tpq.io\" target=\"_blank\">http://tpq.io</a> | <a href=\"http://twitter.com/dyjh\" target=\"_blank\">@dyjh</a> | <a href=\"mailto:team@tpq.io\">team@tpq.io</a>"
   ]
  }
 ],
 "metadata": {
  "kernelspec": {
   "display_name": "Python 3 (ipykernel)",
   "language": "python",
   "name": "python3"
  },
  "language_info": {
   "codemirror_mode": {
    "name": "ipython",
    "version": 3
   },
   "file_extension": ".py",
   "mimetype": "text/x-python",
   "name": "python",
   "nbconvert_exporter": "python",
   "pygments_lexer": "ipython3",
   "version": "3.10.12"
  }
 },
 "nbformat": 4,
 "nbformat_minor": 5
}
